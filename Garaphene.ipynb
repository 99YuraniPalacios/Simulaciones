{
 "cells": [
  {
   "cell_type": "markdown",
   "metadata": {},
   "source": [
    "# Graphene"
   ]
  },
  {
   "cell_type": "markdown",
   "metadata": {},
   "source": [
    "![](graphene.png)"
   ]
  },
  {
   "cell_type": "markdown",
   "metadata": {},
   "source": [
    "The first program that we write is a simple code to replicate the graphene unit cell ans save the atomic coordinates in a list."
   ]
  },
  {
   "cell_type": "code",
   "execution_count": 2,
   "metadata": {
    "collapsed": false
   },
   "outputs": [],
   "source": [
    "from  math import  sqrt\n",
    "acc=1.42\n",
    "a1=[1.5*acc,sqrt(3.0)*acc/2.0]\n",
    "a2=[1.5*acc,-sqrt(3.0)*acc/2.0]\n",
    "at1=[0.0,0.0]\n",
    "at2=[acc,0.0]\n",
    "n=5\n",
    "m=5\n",
    "atx=[]\n",
    "aty=[]\n",
    "for i  in range(-n,n,1):\n",
    "    for j in range(-m,m):\n",
    "        x=at1[0]+i*a1[0]+j*a2[0]\n",
    "        y=at1[1]+i*a1[1]+j*a2[1]\n",
    "        atx+=[x,]\n",
    "        aty+=[y,]\n",
    "        x=at2[0]+i*a1[0]+j*a2[0]\n",
    "        y=at2[1]+i*a1[1]+j*a2[1]\n",
    "        atx+=[x,]\n",
    "        aty+=[y,]"
   ]
  },
  {
   "cell_type": "markdown",
   "metadata": {
    "collapsed": true
   },
   "source": [
    "Then we write a program to visualize the atomic coordinates"
   ]
  },
  {
   "cell_type": "code",
   "execution_count": 2,
   "metadata": {
    "collapsed": false
   },
   "outputs": [
    {
     "data": {
      "text/plain": [
       "[<matplotlib.lines.Line2D at 0x7f1770e585d0>]"
      ]
     },
     "execution_count": 2,
     "metadata": {},
     "output_type": "execute_result"
    },
    {
     "data": {
      "image/png": "[encoded data removed]",
      "text/plain": [
       "<matplotlib.figure.Figure at 0x7f1770f2c9d0>"
      ]
     },
     "metadata": {},
     "output_type": "display_data"
    }
   ],
   "source": [
    "%matplotlib inline\n",
    "import matplotlib.pylab as  ply\n",
    "ply.plot(atx,aty, \"o\")"
   ]
  },
  {
   "cell_type": "markdown",
   "metadata": {},
   "source": [
    "Finally  we can write  a program  to  best  visualization  of the   atomic\n",
    "positions"
   ]
  },
  {
   "cell_type": "code",
   "execution_count": 3,
   "metadata": {
    "collapsed": false
   },
   "outputs": [],
   "source": [
    "from visual import *\n",
    "from  math  import  sqrt,fabs\n",
    "for  i  in  range(shape(atx)[0]):\n",
    "    atom= sphere (pos=(atx[i],aty[i],0), radius=0.5, color=color.red)\n",
    "for i in range((shape(atx)[0])):\n",
    "    for j in range ((shape(atx)[0])):\n",
    "        d= sqrt((atx[i]-atx[j])**2+(aty[i]-aty[j])**2)\n",
    "        if fabs(d-1.44)<0.1:\n",
    "            bond=cylinder(pos=(atx[i],aty[i],0),axis=(atx[j]-atx[i],aty[j]-aty[i],0),radius=0.1)\n"
   ]
  },
  {
   "cell_type": "code",
   "execution_count": null,
   "metadata": {
    "collapsed": true
   },
   "outputs": [],
   "source": []
  }
 ],
 "metadata": {
  "kernelspec": {
   "display_name": "Python 2",
   "language": "python",
   "name": "python2"
  },
  "language_info": {
   "codemirror_mode": {
    "name": "ipython",
    "version": 2
   },
   "file_extension": ".py",
   "mimetype": "text/x-python",
   "name": "python",
   "nbconvert_exporter": "python",
   "pygments_lexer": "ipython2",
   "version": "2.7.6"
  }
 },
 "nbformat": 4,
 "nbformat_minor": 1
}

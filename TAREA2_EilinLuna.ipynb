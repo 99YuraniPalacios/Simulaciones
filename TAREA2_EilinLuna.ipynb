{
 "cells": [
  {
   "cell_type": "markdown",
   "metadata": {},
   "source": [
    "TAREA #2.\n",
    "\n",
    "EILIN PAOLA LUNA MORENO \n",
    "\n",
    "T.I: 1002371907\n",
    "\n",
    "LENGUAJES DE PROGRAMACIÓN \n",
    "\n",
    "GRUPO 1\n",
    "\n",
    "UNIVERSIDAD DE MEDELLÍN\n",
    "\n",
    "MEDELLÍN - ANTIOQUIA\n",
    "\n",
    "07 - Septiembre - 2016"
   ]
  },
  {
   "cell_type": "markdown",
   "metadata": {},
   "source": [
    "# TAREA N° 2\n",
    "\n",
    "Del capítulo número 5 del libro realizar dos ejercicios."
   ]
  },
  {
   "cell_type": "markdown",
   "metadata": {},
   "source": [
    "* ### Exercise 5.1: Fill lists with function values (PÁG 310)\n",
    "Define\n",
    "$$h(x) = \\frac{1}{\\sqrt{2\\pi}}e^{−\\frac{1}{2}x^{2}}$$ \n",
    "\n",
    "$$(5.15)$$\n",
    "\n",
    "    Fill lists x list and h list with x and h(x) values for 41 uniformly spaced x coordinates in [−4, 4].\n",
    "\n",
    "* ### Exercise 5.2: Fill arrays; loop version (PÁG 310)\n",
    "The aim is to fill two arrays x and y with x and h(x) values, respectively, where h(x) is defined in (5.15). Let the x values be as in Exercise 5.1.Create empty x and y arrays and compute each element in x and y with\n",
    "a for loop.\n",
    "\n",
    "* ### Exercise 5.3: Fill arrays; vectorized version (PÁG 310)\n",
    "Vectorize the code in Exercise 5.2 by creating the x values using the linspace function from the numpy package and by evaluating h(x) for an array argument.\n",
    "\n",
    "* ### Exercise 5.4: Plot a function (PÁG 311)\n",
    "Make a plot of the function in Exercise 5.1 for x ∈ [−4, 4]."
   ]
  },
  {
   "cell_type": "code",
   "execution_count": 1,
   "metadata": {
    "collapsed": false
   },
   "outputs": [
    {
     "data": {
      "text/plain": [
       "[<matplotlib.lines.Line2D at 0x7f127bd64890>]"
      ]
     },
     "execution_count": 1,
     "metadata": {},
     "output_type": "execute_result"
    },
    {
     "data": {
      "image/png": "[encoded data removed]",
      "text/plain": [
       "<matplotlib.figure.Figure at 0x7f127bd648d0>"
      ]
     },
     "metadata": {},
     "output_type": "display_data"
    }
   ],
   "source": [
    "#EXERCISE 5.1\n",
    "x = [-4., -3.8, -3.6, -3.4, -3.2, -3., -2.8, -2.6, -2.4, -2.2,\n",
    "     -2., -1.8, -1.6, -1.4, -1.2, -1., -0.8, -0.6, -0.4, -0.2,\n",
    "     0. ,  0.2,  0.4,  0.6,  0.8,  1.,  1.2,  1.4,  1.6,  1.8,\n",
    "     2. ,  2.2,  2.4,  2.6,  2.8,  3.,  3.2,  3.4,  3.6,  3.8,  4. ] \n",
    "\n",
    "y =   [1.33830226e-04, 2.91946926e-04, 6.11901930e-04, 1.23221917e-03,\n",
    "       2.38408820e-03, 4.43184841e-03, 7.91545158e-03, 1.35829692e-02,\n",
    "       2.23945303e-02, 3.54745928e-02, 5.39909665e-02, 7.89501583e-02,\n",
    "       1.10920835e-01, 1.49727466e-01, 1.94186055e-01, 2.41970725e-01,\n",
    "       2.89691553e-01, 3.33224603e-01, 3.68270140e-01, 3.91042694e-01,\n",
    "       3.98942280e-01, 3.91042694e-01, 3.68270140e-01, 3.33224603e-01,\n",
    "       2.89691553e-01, 2.41970725e-01, 1.94186055e-01, 1.49727466e-01,\n",
    "       1.10920835e-01, 7.89501583e-02, 5.39909665e-02, 3.54745928e-02,\n",
    "       2.23945303e-02, 1.35829692e-02, 7.91545158e-03, 4.43184841e-03,\n",
    "       2.38408820e-03, 1.23221917e-03, 6.11901930e-04, 2.91946926e-04,\n",
    "       1.33830226e-04]\n",
    "\n",
    "# EXERCISE 5.2\n",
    "import numpy as np\n",
    "x1 = []\n",
    "y1 = []\n",
    "x1.insert(0,-4)\n",
    "for i in range(41):\n",
    "    x1 += [x1[i]+0.2]\n",
    "    y1 += [1./np.sqrt(2.*np.pi) * np.exp(-0.5*x1[i]**2.)]\n",
    "x1.remove(x1[41])\n",
    "\n",
    "#EXERCISE 5.3\n",
    "import numpy as np\n",
    "\n",
    "x2 = np.linspace(-4, 4, num=41, endpoint=True)\n",
    "y2 = np.zeros(len(x2))\n",
    "\n",
    "for i in range(len(x2)):\n",
    "    y2[i] = 1./np.sqrt(2.*np.pi) * np.exp(-0.5*x2[i]**2.)\n",
    "\n",
    "#EXERXISE 5.4\n",
    "%matplotlib inline\n",
    "import matplotlib.pylab as plt\n",
    "plt.plot(x2,y2)"
   ]
  },
  {
   "cell_type": "markdown",
   "metadata": {},
   "source": [
    "## Exercise 5.5: Apply a function to a vector (PÁG 311)\n",
    "Given a vector $v = (2, 3, −1)$ and a function $f(x) = x^3+xe^x+1$, apply $f$ to each element in $v$. Then calculate by hand $f(v)$ as the NumPy expression $v**3 + v*exp(v) + 1$ using vector computing rules. Demonstrate that the two results are equal."
   ]
  },
  {
   "cell_type": "code",
   "execution_count": 2,
   "metadata": {
    "collapsed": false
   },
   "outputs": [
    {
     "name": "stdout",
     "output_type": "stream",
     "text": [
      "[23.778112197861301, 88.256610769562997, -0.36787944117144233]\n",
      "Are equal\n"
     ]
    }
   ],
   "source": [
    "import numpy as np\n",
    "def fx(v):\n",
    "    global y\n",
    "    y=[]\n",
    "    for i in range(len(v)):\n",
    "        y += [v[i]**3 + v[i]*np.exp(v[i]) + 1]   \n",
    "    return y\n",
    "\n",
    "v = [2, 3, -1]\n",
    "print fx(v)\n",
    "\n",
    "if y[0] == 2**3 +2*np.exp(2)+1 and y[1] == 3**3 + 3 * np.exp(3) + 1 and y[2] == -1**3 + -1 * np.exp(-1) + 1:\n",
    "    print \"Are equal\"\n",
    "else:\n",
    "    print \"Aren't equal\""
   ]
  },
  {
   "cell_type": "markdown",
   "metadata": {},
   "source": [
    "## Exercise 5.10: Plot a formula for several parameters (PÁG 312)\n",
    "Make a program that reads a set of $v_0$ values from the command line and plots the corresponding curves $y(t)=v_0t − \\frac{1}{2}gt^2$ in the same figure, with $t ∈ [0, 2v_0/g]$ for each curve. Set $g = 9.81.$\n",
    "\n",
    "Hint. You need a different vector of t coordinates for each curve."
   ]
  },
  {
   "cell_type": "code",
   "execution_count": 3,
   "metadata": {
    "collapsed": false
   },
   "outputs": [
    {
     "name": "stdout",
     "output_type": "stream",
     "text": [
      "Ingrese cantidad de v0: 5\n",
      "Ingrese v0: 70\n",
      "Ingrese v0: 50\n",
      "Ingrese v0: -54\n",
      "Ingrese v0: -37\n",
      "Ingrese v0: 55\n"
     ]
    },
    {
     "data": {
      "image/png": "[encoded data removed]",
      "text/plain": [
       "<matplotlib.figure.Figure at 0x7f12812e4e50>"
      ]
     },
     "metadata": {},
     "output_type": "display_data"
    }
   ],
   "source": [
    "%matplotlib inline\n",
    "import matplotlib.pylab as plt\n",
    "import numpy as np\n",
    "\n",
    "def f(v0):\n",
    "    y = []\n",
    "    t = []\n",
    "    g = 9.81\n",
    "\n",
    "    t = np.linspace(0, 2*v0/g, num=100, endpoint=True)\n",
    "    for j in range(len(t)):\n",
    "        y += [v0*t[j]-0.5*g*t[j]**2] \n",
    "    \n",
    "    plt.plot(t,y, label=v0)\n",
    "    plt.legend()\n",
    "\n",
    "n = input(\"Ingrese cantidad de v0: \")\n",
    "v0 = []\n",
    "for i in range(n):\n",
    "    v0 += [input(\"Ingrese v0: \")]\n",
    "    f(v0[i])"
   ]
  },
  {
   "cell_type": "markdown",
   "metadata": {},
   "source": [
    "## Exercise 5.12: Plot exact and inexact Fahrenheit-Celsius (PÁG 312)\n",
    "\n",
    "### Conversion formulas\n",
    "A simple rule to quickly compute the Celsius temperature from the Fahrenheit degrees is to subtract 30 and then divide by 2: $C = \\frac{F−30}{2}$. \n",
    "Compare this curve against the exact curve $C=(F − 32)\\frac{5}{9}$ in a plot.\n",
    "Let $F$ vary between -20 and 120."
   ]
  },
  {
   "cell_type": "code",
   "execution_count": 4,
   "metadata": {
    "collapsed": false
   },
   "outputs": [
    {
     "data": {
      "text/plain": [
       "<matplotlib.legend.Legend at 0x7f127b303410>"
      ]
     },
     "execution_count": 4,
     "metadata": {},
     "output_type": "execute_result"
    },
    {
     "data": {
      "image/png": "[encoded data removed]",
      "text/plain": [
       "<matplotlib.figure.Figure at 0x7f127bb9ddd0>"
      ]
     },
     "metadata": {},
     "output_type": "display_data"
    }
   ],
   "source": [
    "%matplotlib inline\n",
    "import numpy as np\n",
    "import matplotlib.pylab as plt\n",
    "\n",
    "F = np.linspace(-20,120, num = 1000, endpoint=True)\n",
    "\n",
    "CI = np.zeros(len(F))\n",
    "CE = np.zeros(len(F))\n",
    "\n",
    "for i in range(len(F)):\n",
    "    CI[i] = (F[i]-30)/2.\n",
    "    CE[i] = (F[i]-32)*5./9.\n",
    "\n",
    "plt.plot(F, CI, color='r', label = \"Inexacta\")\n",
    "plt.plot(F, CE, color='b', label = \"Exacta\")\n",
    "plt.title(\"Plot exact and inexact Fahrenheit-Celsius\")\n",
    "plt.xlabel(\"Fahreheit\")\n",
    "plt.ylabel(\"Celcius\")\n",
    "plt.legend()"
   ]
  }
 ],
 "metadata": {
  "kernelspec": {
   "display_name": "Python 2",
   "language": "python",
   "name": "python2"
  },
  "language_info": {
   "codemirror_mode": {
    "name": "ipython",
    "version": 2
   },
   "file_extension": ".py",
   "mimetype": "text/x-python",
   "name": "python",
   "nbconvert_exporter": "python",
   "pygments_lexer": "ipython2",
   "version": "2.7.6"
  }
 },
 "nbformat": 4,
 "nbformat_minor": 1
}
